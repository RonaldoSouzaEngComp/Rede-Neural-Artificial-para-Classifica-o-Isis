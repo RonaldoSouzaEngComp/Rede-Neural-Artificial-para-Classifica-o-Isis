{
  "nbformat": 4,
  "nbformat_minor": 0,
  "metadata": {
    "colab": {
      "name": "Rede Neural Artificial para Classificação Isis.ipynb",
      "provenance": [],
      "authorship_tag": "ABX9TyPonRlzmttRbkB0YIvfUKgw",
      "include_colab_link": true
    },
    "kernelspec": {
      "name": "python3",
      "display_name": "Python 3"
    }
  },
  "cells": [
    {
      "cell_type": "markdown",
      "metadata": {
        "id": "view-in-github",
        "colab_type": "text"
      },
      "source": [
        "<a href=\"https://colab.research.google.com/github/RonaldoSouzaEngComp/Rede-Neural-Artificial-para-Classifica-o-Isis/blob/main/Rede_Neural_Artificial_para_Classifica%C3%A7%C3%A3o_Isis.ipynb\" target=\"_parent\"><img src=\"https://colab.research.google.com/assets/colab-badge.svg\" alt=\"Open In Colab\"/></a>"
      ]
    },
    {
      "cell_type": "markdown",
      "metadata": {
        "id": "8pTl5nMIvqHv"
      },
      "source": [
        "# 01 - CARREGANDO OS DADOS"
      ]
    },
    {
      "cell_type": "code",
      "metadata": {
        "id": "l0x82TGvu44x"
      },
      "source": [
        "import            pandas as pd\r\n",
        "base = pd.read_csv('iris.csv')"
      ],
      "execution_count": 1,
      "outputs": []
    }
  ]
}